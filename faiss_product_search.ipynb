{
 "cells": [
  {
   "cell_type": "code",
   "execution_count": 1,
   "metadata": {},
   "outputs": [],
   "source": [
    "import pandas as pd\n",
    "from util import replace_nan_with_not_available"
   ]
  },
  {
   "cell_type": "code",
   "execution_count": 2,
   "metadata": {},
   "outputs": [
    {
     "data": {
      "text/html": [
       "<div>\n",
       "<style scoped>\n",
       "    .dataframe tbody tr th:only-of-type {\n",
       "        vertical-align: middle;\n",
       "    }\n",
       "\n",
       "    .dataframe tbody tr th {\n",
       "        vertical-align: top;\n",
       "    }\n",
       "\n",
       "    .dataframe thead th {\n",
       "        text-align: right;\n",
       "    }\n",
       "</style>\n",
       "<table border=\"1\" class=\"dataframe\">\n",
       "  <thead>\n",
       "    <tr style=\"text-align: right;\">\n",
       "      <th></th>\n",
       "      <th>PRODUCT_ID</th>\n",
       "      <th>TITLE</th>\n",
       "      <th>BULLET_POINTS</th>\n",
       "      <th>DESCRIPTION</th>\n",
       "      <th>PRODUCT_TYPE_ID</th>\n",
       "      <th>PRODUCT_LENGTH</th>\n",
       "    </tr>\n",
       "  </thead>\n",
       "  <tbody>\n",
       "    <tr>\n",
       "      <th>0</th>\n",
       "      <td>1170771</td>\n",
       "      <td>MOGU Men's 1 Button Center Vent Wool Blend Bla...</td>\n",
       "      <td>[This is Asians size. Please choose the right ...</td>\n",
       "      <td>Slim Fit 1 Button Wool Blend Blazer Jacket wit...</td>\n",
       "      <td>2864</td>\n",
       "      <td>1500.000000</td>\n",
       "    </tr>\n",
       "    <tr>\n",
       "      <th>1</th>\n",
       "      <td>732582</td>\n",
       "      <td>Die Geschichte des Arabischen als Unterrichtsfach</td>\n",
       "      <td>NaN</td>\n",
       "      <td>NaN</td>\n",
       "      <td>89</td>\n",
       "      <td>590.550000</td>\n",
       "    </tr>\n",
       "    <tr>\n",
       "      <th>2</th>\n",
       "      <td>639671</td>\n",
       "      <td>Le secret des peuples sans cancer</td>\n",
       "      <td>NaN</td>\n",
       "      <td>NaN</td>\n",
       "      <td>1</td>\n",
       "      <td>590.550000</td>\n",
       "    </tr>\n",
       "    <tr>\n",
       "      <th>3</th>\n",
       "      <td>2368216</td>\n",
       "      <td>Akira Carpets Embossed Carved Handmade Tuffted...</td>\n",
       "      <td>[Pile Height: 1 Inch,Hand Woven with Fine Wool...</td>\n",
       "      <td>This item is part of the Akira Carpets collect...</td>\n",
       "      <td>1634</td>\n",
       "      <td>16732.283448</td>\n",
       "    </tr>\n",
       "    <tr>\n",
       "      <th>4</th>\n",
       "      <td>346152</td>\n",
       "      <td>Outlines &amp; Highlights for Marketing: The Core ...</td>\n",
       "      <td>NaN</td>\n",
       "      <td>NaN</td>\n",
       "      <td>6073</td>\n",
       "      <td>825.000000</td>\n",
       "    </tr>\n",
       "  </tbody>\n",
       "</table>\n",
       "</div>"
      ],
      "text/plain": [
       "   PRODUCT_ID                                              TITLE  \\\n",
       "0     1170771  MOGU Men's 1 Button Center Vent Wool Blend Bla...   \n",
       "1      732582  Die Geschichte des Arabischen als Unterrichtsfach   \n",
       "2      639671                  Le secret des peuples sans cancer   \n",
       "3     2368216  Akira Carpets Embossed Carved Handmade Tuffted...   \n",
       "4      346152  Outlines & Highlights for Marketing: The Core ...   \n",
       "\n",
       "                                       BULLET_POINTS  \\\n",
       "0  [This is Asians size. Please choose the right ...   \n",
       "1                                                NaN   \n",
       "2                                                NaN   \n",
       "3  [Pile Height: 1 Inch,Hand Woven with Fine Wool...   \n",
       "4                                                NaN   \n",
       "\n",
       "                                         DESCRIPTION  PRODUCT_TYPE_ID  \\\n",
       "0  Slim Fit 1 Button Wool Blend Blazer Jacket wit...             2864   \n",
       "1                                                NaN               89   \n",
       "2                                                NaN                1   \n",
       "3  This item is part of the Akira Carpets collect...             1634   \n",
       "4                                                NaN             6073   \n",
       "\n",
       "   PRODUCT_LENGTH  \n",
       "0     1500.000000  \n",
       "1      590.550000  \n",
       "2      590.550000  \n",
       "3    16732.283448  \n",
       "4      825.000000  "
      ]
     },
     "execution_count": 2,
     "metadata": {},
     "output_type": "execute_result"
    }
   ],
   "source": [
    "productDataFrame = pd.read_csv(\"product.csv\")\n",
    "productDataFrame.head()"
   ]
  },
  {
   "cell_type": "code",
   "execution_count": 3,
   "metadata": {},
   "outputs": [],
   "source": [
    "productDataFrame = productDataFrame.drop([\"PRODUCT_LENGTH\", \"PRODUCT_TYPE_ID\"], axis=1)"
   ]
  },
  {
   "cell_type": "code",
   "execution_count": 4,
   "metadata": {},
   "outputs": [],
   "source": [
    "productDataFrame = replace_nan_with_not_available(productDataFrame)"
   ]
  },
  {
   "cell_type": "code",
   "execution_count": 89,
   "metadata": {},
   "outputs": [],
   "source": [
    "from sentence_transformers import SentenceTransformer\n",
    "\n",
    "model = SentenceTransformer(\"all-MiniLM-L6-v2\")"
   ]
  },
  {
   "cell_type": "code",
   "execution_count": 90,
   "metadata": {},
   "outputs": [],
   "source": [
    "text = \"A fancy jacket with modern patterns\"\n",
    "embeddings = model.encode(text)"
   ]
  },
  {
   "cell_type": "code",
   "execution_count": 91,
   "metadata": {},
   "outputs": [],
   "source": [
    "embeddings = model.encode(productDataFrame[\"DESCRIPTION\"])"
   ]
  },
  {
   "cell_type": "code",
   "execution_count": null,
   "metadata": {},
   "outputs": [],
   "source": [
    "import faiss\n",
    "import numpy as np"
   ]
  },
  {
   "cell_type": "code",
   "execution_count": null,
   "metadata": {},
   "outputs": [],
   "source": [
    "dimmension = embeddings.shape[1]\n",
    "\n",
    "index = faiss.IndexFlatL2(dimmension)"
   ]
  },
  {
   "cell_type": "code",
   "execution_count": 94,
   "metadata": {},
   "outputs": [],
   "source": [
    "index.add(embeddings)"
   ]
  },
  {
   "cell_type": "code",
   "execution_count": 97,
   "metadata": {},
   "outputs": [],
   "source": [
    "k = 10 \n",
    "query = \"Black jacket\"\n",
    "query = model.encode([query])\n",
    "D, I = index.search(query, k)"
   ]
  },
  {
   "cell_type": "code",
   "execution_count": 104,
   "metadata": {},
   "outputs": [
    {
     "data": {
      "text/plain": [
       "array([121, 140, 132,   0, 135, 130,  74,   9,  95,  19], dtype=int64)"
      ]
     },
     "execution_count": 104,
     "metadata": {},
     "output_type": "execute_result"
    }
   ],
   "source": [
    "I[0]"
   ]
  },
  {
   "cell_type": "code",
   "execution_count": 105,
   "metadata": {},
   "outputs": [
    {
     "data": {
      "text/plain": [
       "121    Wocachi Trench Coat For Women, Boho Colorful P...\n",
       "140                                         Electric Egg\n",
       "132                D.O.T. Daytona Shadow- HI-Gloss Black\n",
       "0      MOGU Men's 1 Button Center Vent Wool Blend Bla...\n",
       "135    MOGU Mens Suit Jacket Slim Fit Single Breasted...\n",
       "130    Mirage Pet Products Trouble Maker Rhinestone P...\n",
       "74     Pouchee Pouchee Avi Crossbody Handbag/Organize...\n",
       "9      The Goozler Double Deuce Jasper Missouri - Roa...\n",
       "95     Skechers Elite Flex Fashion Sneaker Black/Whit...\n",
       "19     Ripening Baby Girls Baby Girl's Sequined & Tis...\n",
       "Name: TITLE, dtype: object"
      ]
     },
     "execution_count": 105,
     "metadata": {},
     "output_type": "execute_result"
    }
   ],
   "source": [
    "productDataFrame[\"TITLE\"].iloc[I[0]]"
   ]
  }
 ],
 "metadata": {
  "kernelspec": {
   "display_name": "local_gpt",
   "language": "python",
   "name": "local_gpt"
  },
  "language_info": {
   "codemirror_mode": {
    "name": "ipython",
    "version": 3
   },
   "file_extension": ".py",
   "mimetype": "text/x-python",
   "name": "python",
   "nbconvert_exporter": "python",
   "pygments_lexer": "ipython3",
   "version": "3.10.0"
  }
 },
 "nbformat": 4,
 "nbformat_minor": 2
}
