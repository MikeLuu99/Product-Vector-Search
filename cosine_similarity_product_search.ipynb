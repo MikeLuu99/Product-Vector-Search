{
 "cells": [
  {
   "cell_type": "code",
   "execution_count": 5,
   "metadata": {},
   "outputs": [
    {
     "data": {
      "text/html": [
       "<div>\n",
       "<style scoped>\n",
       "    .dataframe tbody tr th:only-of-type {\n",
       "        vertical-align: middle;\n",
       "    }\n",
       "\n",
       "    .dataframe tbody tr th {\n",
       "        vertical-align: top;\n",
       "    }\n",
       "\n",
       "    .dataframe thead th {\n",
       "        text-align: right;\n",
       "    }\n",
       "</style>\n",
       "<table border=\"1\" class=\"dataframe\">\n",
       "  <thead>\n",
       "    <tr style=\"text-align: right;\">\n",
       "      <th></th>\n",
       "      <th>PRODUCT_ID</th>\n",
       "      <th>TITLE</th>\n",
       "      <th>BULLET_POINTS</th>\n",
       "      <th>DESCRIPTION</th>\n",
       "      <th>PRODUCT_TYPE_ID</th>\n",
       "      <th>PRODUCT_LENGTH</th>\n",
       "    </tr>\n",
       "  </thead>\n",
       "  <tbody>\n",
       "    <tr>\n",
       "      <th>0</th>\n",
       "      <td>1170771</td>\n",
       "      <td>MOGU Men's 1 Button Center Vent Wool Blend Bla...</td>\n",
       "      <td>[This is Asians size. Please choose the right ...</td>\n",
       "      <td>Slim Fit 1 Button Wool Blend Blazer Jacket wit...</td>\n",
       "      <td>2864</td>\n",
       "      <td>1500.000000</td>\n",
       "    </tr>\n",
       "    <tr>\n",
       "      <th>1</th>\n",
       "      <td>732582</td>\n",
       "      <td>Die Geschichte des Arabischen als Unterrichtsfach</td>\n",
       "      <td>NaN</td>\n",
       "      <td>NaN</td>\n",
       "      <td>89</td>\n",
       "      <td>590.550000</td>\n",
       "    </tr>\n",
       "    <tr>\n",
       "      <th>2</th>\n",
       "      <td>639671</td>\n",
       "      <td>Le secret des peuples sans cancer</td>\n",
       "      <td>NaN</td>\n",
       "      <td>NaN</td>\n",
       "      <td>1</td>\n",
       "      <td>590.550000</td>\n",
       "    </tr>\n",
       "    <tr>\n",
       "      <th>3</th>\n",
       "      <td>2368216</td>\n",
       "      <td>Akira Carpets Embossed Carved Handmade Tuffted...</td>\n",
       "      <td>[Pile Height: 1 Inch,Hand Woven with Fine Wool...</td>\n",
       "      <td>This item is part of the Akira Carpets collect...</td>\n",
       "      <td>1634</td>\n",
       "      <td>16732.283448</td>\n",
       "    </tr>\n",
       "    <tr>\n",
       "      <th>4</th>\n",
       "      <td>346152</td>\n",
       "      <td>Outlines &amp; Highlights for Marketing: The Core ...</td>\n",
       "      <td>NaN</td>\n",
       "      <td>NaN</td>\n",
       "      <td>6073</td>\n",
       "      <td>825.000000</td>\n",
       "    </tr>\n",
       "  </tbody>\n",
       "</table>\n",
       "</div>"
      ],
      "text/plain": [
       "   PRODUCT_ID                                              TITLE  \\\n",
       "0     1170771  MOGU Men's 1 Button Center Vent Wool Blend Bla...   \n",
       "1      732582  Die Geschichte des Arabischen als Unterrichtsfach   \n",
       "2      639671                  Le secret des peuples sans cancer   \n",
       "3     2368216  Akira Carpets Embossed Carved Handmade Tuffted...   \n",
       "4      346152  Outlines & Highlights for Marketing: The Core ...   \n",
       "\n",
       "                                       BULLET_POINTS  \\\n",
       "0  [This is Asians size. Please choose the right ...   \n",
       "1                                                NaN   \n",
       "2                                                NaN   \n",
       "3  [Pile Height: 1 Inch,Hand Woven with Fine Wool...   \n",
       "4                                                NaN   \n",
       "\n",
       "                                         DESCRIPTION  PRODUCT_TYPE_ID  \\\n",
       "0  Slim Fit 1 Button Wool Blend Blazer Jacket wit...             2864   \n",
       "1                                                NaN               89   \n",
       "2                                                NaN                1   \n",
       "3  This item is part of the Akira Carpets collect...             1634   \n",
       "4                                                NaN             6073   \n",
       "\n",
       "   PRODUCT_LENGTH  \n",
       "0     1500.000000  \n",
       "1      590.550000  \n",
       "2      590.550000  \n",
       "3    16732.283448  \n",
       "4      825.000000  "
      ]
     },
     "execution_count": 5,
     "metadata": {},
     "output_type": "execute_result"
    }
   ],
   "source": [
    "import pandas as pd\n",
    "from util import replace_nan_with_not_available\n",
    "\n",
    "productDataFrame = pd.read_csv(\"product.csv\")\n",
    "productDataFrame.head()"
   ]
  },
  {
   "cell_type": "code",
   "execution_count": 6,
   "metadata": {},
   "outputs": [
    {
     "data": {
      "text/html": [
       "<div>\n",
       "<style scoped>\n",
       "    .dataframe tbody tr th:only-of-type {\n",
       "        vertical-align: middle;\n",
       "    }\n",
       "\n",
       "    .dataframe tbody tr th {\n",
       "        vertical-align: top;\n",
       "    }\n",
       "\n",
       "    .dataframe thead th {\n",
       "        text-align: right;\n",
       "    }\n",
       "</style>\n",
       "<table border=\"1\" class=\"dataframe\">\n",
       "  <thead>\n",
       "    <tr style=\"text-align: right;\">\n",
       "      <th></th>\n",
       "      <th>PRODUCT_ID</th>\n",
       "      <th>TITLE</th>\n",
       "      <th>BULLET_POINTS</th>\n",
       "      <th>DESCRIPTION</th>\n",
       "    </tr>\n",
       "  </thead>\n",
       "  <tbody>\n",
       "    <tr>\n",
       "      <th>0</th>\n",
       "      <td>1170771</td>\n",
       "      <td>MOGU Men's 1 Button Center Vent Wool Blend Bla...</td>\n",
       "      <td>[This is Asians size. Please choose the right ...</td>\n",
       "      <td>Slim Fit 1 Button Wool Blend Blazer Jacket wit...</td>\n",
       "    </tr>\n",
       "    <tr>\n",
       "      <th>1</th>\n",
       "      <td>732582</td>\n",
       "      <td>Die Geschichte des Arabischen als Unterrichtsfach</td>\n",
       "      <td>not available</td>\n",
       "      <td>not available</td>\n",
       "    </tr>\n",
       "    <tr>\n",
       "      <th>2</th>\n",
       "      <td>639671</td>\n",
       "      <td>Le secret des peuples sans cancer</td>\n",
       "      <td>not available</td>\n",
       "      <td>not available</td>\n",
       "    </tr>\n",
       "    <tr>\n",
       "      <th>3</th>\n",
       "      <td>2368216</td>\n",
       "      <td>Akira Carpets Embossed Carved Handmade Tuffted...</td>\n",
       "      <td>[Pile Height: 1 Inch,Hand Woven with Fine Wool...</td>\n",
       "      <td>This item is part of the Akira Carpets collect...</td>\n",
       "    </tr>\n",
       "    <tr>\n",
       "      <th>4</th>\n",
       "      <td>346152</td>\n",
       "      <td>Outlines &amp; Highlights for Marketing: The Core ...</td>\n",
       "      <td>not available</td>\n",
       "      <td>not available</td>\n",
       "    </tr>\n",
       "  </tbody>\n",
       "</table>\n",
       "</div>"
      ],
      "text/plain": [
       "   PRODUCT_ID                                              TITLE  \\\n",
       "0     1170771  MOGU Men's 1 Button Center Vent Wool Blend Bla...   \n",
       "1      732582  Die Geschichte des Arabischen als Unterrichtsfach   \n",
       "2      639671                  Le secret des peuples sans cancer   \n",
       "3     2368216  Akira Carpets Embossed Carved Handmade Tuffted...   \n",
       "4      346152  Outlines & Highlights for Marketing: The Core ...   \n",
       "\n",
       "                                       BULLET_POINTS  \\\n",
       "0  [This is Asians size. Please choose the right ...   \n",
       "1                                      not available   \n",
       "2                                      not available   \n",
       "3  [Pile Height: 1 Inch,Hand Woven with Fine Wool...   \n",
       "4                                      not available   \n",
       "\n",
       "                                         DESCRIPTION  \n",
       "0  Slim Fit 1 Button Wool Blend Blazer Jacket wit...  \n",
       "1                                      not available  \n",
       "2                                      not available  \n",
       "3  This item is part of the Akira Carpets collect...  \n",
       "4                                      not available  "
      ]
     },
     "execution_count": 6,
     "metadata": {},
     "output_type": "execute_result"
    }
   ],
   "source": [
    "productDataFrame = replace_nan_with_not_available(productDataFrame)\n",
    "productDataFrame = productDataFrame.drop([\"PRODUCT_LENGTH\", \"PRODUCT_TYPE_ID\"], axis=1)\n",
    "productDataFrame.head()"
   ]
  },
  {
   "cell_type": "code",
   "execution_count": 7,
   "metadata": {},
   "outputs": [
    {
     "name": "stderr",
     "output_type": "stream",
     "text": [
      "c:\\Users\\trung\\anaconda3\\envs\\local_gpt\\lib\\site-packages\\tqdm\\auto.py:21: TqdmWarning: IProgress not found. Please update jupyter and ipywidgets. See https://ipywidgets.readthedocs.io/en/stable/user_install.html\n",
      "  from .autonotebook import tqdm as notebook_tqdm\n"
     ]
    }
   ],
   "source": [
    "from sentence_transformers import SentenceTransformer\n",
    "\n",
    "model = SentenceTransformer(\"all-MiniLM-L6-v2\")"
   ]
  },
  {
   "cell_type": "code",
   "execution_count": 8,
   "metadata": {},
   "outputs": [
    {
     "data": {
      "text/plain": [
       "array([[ 0.01392753,  0.03975722,  0.02056379, ..., -0.08805919,\n",
       "        -0.07629182,  0.03114518],\n",
       "       [-0.06014447, -0.05523936, -0.08819785, ..., -0.04828104,\n",
       "        -0.08742009, -0.0115357 ],\n",
       "       [-0.06014447, -0.05523936, -0.08819785, ..., -0.04828104,\n",
       "        -0.08742009, -0.0115357 ],\n",
       "       ...,\n",
       "       [-0.06014447, -0.05523936, -0.08819785, ..., -0.04828104,\n",
       "        -0.08742009, -0.0115357 ],\n",
       "       [-0.05938312,  0.04020124, -0.00738922, ...,  0.028565  ,\n",
       "         0.01238725,  0.0551722 ],\n",
       "       [-0.06014459, -0.05523935, -0.0881979 , ..., -0.04828097,\n",
       "        -0.08742013, -0.01153571]], dtype=float32)"
      ]
     },
     "execution_count": 8,
     "metadata": {},
     "output_type": "execute_result"
    }
   ],
   "source": [
    "embeddings = model.encode(productDataFrame[\"DESCRIPTION\"])\n",
    "embeddings"
   ]
  },
  {
   "cell_type": "code",
   "execution_count": 10,
   "metadata": {},
   "outputs": [],
   "source": [
    "from scipy.spatial.distance import cosine\n",
    "import heapq\n",
    "\n",
    "query = \"black leather jacket\"\n",
    "query = model.encode(query)"
   ]
  },
  {
   "cell_type": "code",
   "execution_count": 11,
   "metadata": {},
   "outputs": [
    {
     "data": {
      "text/plain": [
       "[47, 136, 127, 45, 46, 146, 108, 141, 114, 59]"
      ]
     },
     "execution_count": 11,
     "metadata": {},
     "output_type": "execute_result"
    }
   ],
   "source": [
    "similarities = []\n",
    "n = 10\n",
    "for i in embeddings:\n",
    "    similarities.append(cosine(query, i))\n",
    "largest_values = heapq.nlargest(n, enumerate(similarities), key=lambda x: x[1])\n",
    "productList = [i for i, _ in largest_values]\n",
    "\n",
    "productList"
   ]
  },
  {
   "cell_type": "code",
   "execution_count": 13,
   "metadata": {},
   "outputs": [
    {
     "data": {
      "text/plain": [
       "47     Astrometric Plastic Pop Chef Fruit Cutter Cake...\n",
       "136    Puff King Hookah Pot Set Designer Decorative G...\n",
       "127    Wish Karo Mask Protection Face Mask with 5 Lay...\n",
       "45     Regina 5ZRP/118KYA021 Drive Chain Conversion K...\n",
       "46     Wordless Love Rhodium Plated Brass Full Prong ...\n",
       "146                           UOBMALL Spare Tire Carrier\n",
       "108    The Trendy Shop Cotton Diamond Argyle Pattern ...\n",
       "141    Playbuys 7pcs Metal Linkage Servo Pull Rod for...\n",
       "114                  Gold Cluster Candy Nut Serving Bowl\n",
       "59     Zenix Combo of Hair and Beard Wax and Temporar...\n",
       "Name: TITLE, dtype: object"
      ]
     },
     "execution_count": 13,
     "metadata": {},
     "output_type": "execute_result"
    }
   ],
   "source": [
    "productDataFrame[\"TITLE\"].iloc[productList]"
   ]
  }
 ],
 "metadata": {
  "kernelspec": {
   "display_name": "local_gpt",
   "language": "python",
   "name": "local_gpt"
  },
  "language_info": {
   "codemirror_mode": {
    "name": "ipython",
    "version": 3
   },
   "file_extension": ".py",
   "mimetype": "text/x-python",
   "name": "python",
   "nbconvert_exporter": "python",
   "pygments_lexer": "ipython3",
   "version": "3.10.0"
  }
 },
 "nbformat": 4,
 "nbformat_minor": 2
}
